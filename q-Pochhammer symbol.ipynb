{
 "cells": [
  {
   "cell_type": "markdown",
   "metadata": {},
   "source": [
    "<h3>q-Pochhammer symbol</h3>\n",
    "<a href=\"https://en.wikipedia.org/wiki/Q-Pochhammer_symbol\">q-Pochhammer symbol</a>\n",
    "$$(a;q)_n=\\prod_{k=0}^{n-1}1-aq^k$$\n",
    "<p>where</p>\n",
    "$$(a;q)_0=1$$\n",
    "<h4>negative n</h4>\n",
    "$$(a;q)_{-n}=\\frac1{(aq^{-n};q)_n}$$\n",
    "$$=\\prod_{k=1}^n\\frac1{1-\\frac{a}{q^k}}$$\n"
   ]
  },
  {
   "cell_type": "code",
   "execution_count": 20,
   "metadata": {},
   "outputs": [],
   "source": [
    "from typing import TypeVar\n",
    "\n",
    "Numeric = TypeVar('Numeric', int, float)\n",
    "\n",
    "EMPTY_PRODUCT = 1\n",
    "\n",
    "def q_poch(a: Numeric, q: Numeric, n: int) -> Numeric:\n",
    "    \"\"\"Pure Python q-Pochhammer symbol is the q-analog of Pochhammer symbol.\n",
    "    Also called q-shifted factorial.\n",
    "    \"\"\"\n",
    "    if not n:\n",
    "        return 1\n",
    "    signum_n = 1\n",
    "    if n < 0:\n",
    "        n = abs(n)\n",
    "        signum_n = -1\n",
    "    product = EMPTY_PRODUCT\n",
    "    if signum_n == 1:\n",
    "        for k in range(n):\n",
    "            product *= 1 - a*q**k\n",
    "    else:\n",
    "        for k in range(1, n + 1):\n",
    "            product *= 1/(1 - a/q**k)\n",
    "    return product"
   ]
  },
  {
   "cell_type": "code",
   "execution_count": 21,
   "metadata": {},
   "outputs": [
    {
     "name": "stdout",
     "output_type": "stream",
     "text": [
      "2.891931730935808\n",
      "1\n",
      "1.0833687838945465e-11\n"
     ]
    }
   ],
   "source": [
    "print(q_poch(-1.2, 0.2, 5))\n",
    "print(q_poch(-1.2, 0.2, 0))\n",
    "print(q_poch(-1.2, 0.2, -5))"
   ]
  },
  {
   "cell_type": "code",
   "execution_count": null,
   "metadata": {},
   "outputs": [],
   "source": []
  }
 ],
 "metadata": {
  "kernelspec": {
   "display_name": "Python 3",
   "language": "python",
   "name": "python3"
  },
  "language_info": {
   "codemirror_mode": {
    "name": "ipython",
    "version": 3
   },
   "file_extension": ".py",
   "mimetype": "text/x-python",
   "name": "python",
   "nbconvert_exporter": "python",
   "pygments_lexer": "ipython3",
   "version": "3.7.0"
  }
 },
 "nbformat": 4,
 "nbformat_minor": 4
}
