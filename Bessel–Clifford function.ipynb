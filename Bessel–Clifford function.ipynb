{
 "cells": [
  {
   "cell_type": "markdown",
   "metadata": {},
   "source": [
    "<h3>Bessel–Clifford function</h3>\n",
    "<a href=\"https://en.wikipedia.org/wiki/Bessel%E2%80%93Clifford_function\">Bessel–Clifford function</a>\n",
    "$${\\mathcal C}_n(z)=\\sum_{k=0}^\\infty\\pi(k+n)\\frac{z^k}{k!}$$\n",
    "<p>where</p>\n",
    "$$\\pi(x)=\\frac{1}{\\Pi(x)}$$\n",
    "<br>\n",
    "$$=\\frac1{\\Gamma(x+1)}$$"
   ]
  },
  {
   "cell_type": "code",
   "execution_count": null,
   "metadata": {},
   "outputs": [],
   "source": [
    "from typing import TypeVar\n",
    "\n",
    "import treefactorial\n",
    "\n",
    "Numeric = TypeVar('Numeric', int, float, complex)\n",
    "\n",
    "EMPTY_SUM = 0\n",
    "\n",
    "factorial = treefactorial.factorial\n",
    "\n",
    "def Cn(n: int, z: Numeric) -> Numeric:\n",
    "    \"\"\"Pure Python Bessel–Clifford function C_n\n",
    "    when n is restricted to integer (instead of complex) and z is complex,\n",
    "    without using gamma or Bessel functions.\n",
    "    \"\"\"\n",
    "    sum = EMPTY_SUM\n",
    "    for term in range(30):\n",
    "        sum += 1/factorial(term + n)*z**term/factorial(term)\n",
    "    return sum"
   ]
  }
 ],
 "metadata": {
  "kernelspec": {
   "display_name": "Python 3",
   "language": "python",
   "name": "python3"
  },
  "language_info": {
   "codemirror_mode": {
    "name": "ipython",
    "version": 3
   },
   "file_extension": ".py",
   "mimetype": "text/x-python",
   "name": "python",
   "nbconvert_exporter": "python",
   "pygments_lexer": "ipython3",
   "version": "3.7.0"
  }
 },
 "nbformat": 4,
 "nbformat_minor": 4
}
