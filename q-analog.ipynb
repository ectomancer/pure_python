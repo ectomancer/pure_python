{
 "cells": [
  {
   "cell_type": "markdown",
   "metadata": {},
   "source": [
    "<h3>q-analog</h3>\n",
    "<h4>q-Pochhammer symbol</h4>\n",
    "<a href=\"https://en.wikipedia.org/wiki/Q-Pochhammer_symbol\">q-Pochhammer symbol</a>\n",
    "$$(a;q)_n=\\prod_{k=0}^{n-1}1-aq^k$$\n",
    "<p>where</p>\n",
    "$$(a;q)_0=1$$\n",
    "<h4>negative n</h4>\n",
    "$$(a;q)_{-n}=\\frac1{(aq^{-n};q)_n}$$\n",
    "$$=\\prod_{k=1}^n\\frac1{1-\\frac{a}{q^k}}$$\n",
    "<a href=\"https://en.wikipedia.org/wiki/Q-Pochhammer_symbol#Relationship_to_other_q-functions\">q-analog</a>\n",
    "<h4>q-bracket</h4>\n",
    "$$[n]_q=\\frac{1-q^n}{1-q}$$\n",
    "<h4>q-factorial</h4>\n",
    "$$[n]!_q=\\prod_{k=1}^n [k]_q\\quad(1)$$\n",
    "<br>\n",
    "$$=\\frac{(q;q)_n}{(1-q)^n}\\quad(2)$$\n",
    "<h4>q-binomial coefficients</h4>\n",
    "$$\\begin{bmatrix}\n",
    "n\\\\\n",
    "k\n",
    "\\end{bmatrix}_q\\text{ or }{n\\choose k}_q$$\n",
    "<br>\n",
    "$$\\begin{bmatrix}\n",
    "n\\\\\n",
    "k\n",
    "\\end{bmatrix}_q\n",
    "=\\frac{[n]!_q}{[n-k]!_q [k]!_q}$$\n"
   ]
  },
  {
   "cell_type": "code",
   "execution_count": 14,
   "metadata": {},
   "outputs": [],
   "source": [
    "from typing import TypeVar\n",
    "\n",
    "Numeric = TypeVar('Numeric', int, float)\n",
    "\n",
    "EMPTY_PRODUCT = 1\n",
    "\n",
    "def q_poch(a: Numeric, q: Numeric, n: int) -> Numeric:\n",
    "    \"\"\"Pure Python q-Pochhammer symbol is the q-analog of Pochhammer symbol.\n",
    "    Also called q-shifted factorial.\n",
    "    \"\"\"\n",
    "    if not n:\n",
    "        return 1\n",
    "    signum_n = 1\n",
    "    if n < 0:\n",
    "        n = abs(n)\n",
    "        signum_n = -1\n",
    "    product = EMPTY_PRODUCT\n",
    "    if signum_n == 1:\n",
    "        for k in range(n):\n",
    "            product *= 1 - a*q**k\n",
    "    else:\n",
    "        for k in range(1, n + 1):\n",
    "            product *= 1/(1 - a/q**k)\n",
    "    return product\n",
    "\n",
    "\n",
    "def q_bracket(n: int, q: Numeric) -> Numeric:\n",
    "    \"\"\"Pure Python q_bracket of n [n]_q is the q-analog of n.\n",
    "    Also called q-number of n.\n",
    "    \"\"\"\n",
    "    return (1 - q**n)/(1 - q)\n",
    "\n",
    "\n",
    "def q_factorial(n: int, q: Numeric, type: int=1) -> Numeric:\n",
    "    \"\"\"Pure Python q_factorial [n]!_q is the q-analog of factorial.\n",
    "    type=1 is algorithm (1).\n",
    "    type=2 is algorithm (2).\n",
    "    \"\"\"\n",
    "    product = EMPTY_PRODUCT\n",
    "    if type == 1:\n",
    "        for k in range(1, n + 1):\n",
    "            product *= q_bracket(k, q)\n",
    "        return product\n",
    "    elif type == 2:\n",
    "        return q_poch(q, q, n)/(1 - q)**n\n",
    "\n",
    "\n",
    "def q_binom(n: int, k: int, q: Numeric) -> Numeric:\n",
    "    \"\"\"Pure Python q-binomial coefficients [n choose k]_q is the q-analog of (n choose k).\n",
    "    Also called Gaussian binomial coefficients, Gaussian coefficients or Gaussian polynomials.\n",
    "    \"\"\"\n",
    "    return q_factorial(n, q)/(q_factorial(n - k, q)*q_factorial(k, q))"
   ]
  },
  {
   "cell_type": "code",
   "execution_count": 16,
   "metadata": {},
   "outputs": [
    {
     "name": "stdout",
     "output_type": "stream",
     "text": [
      "2.891931730935808\n",
      "1\n",
      "1.0833687838945465e-11\n",
      "9.889595851767801\n",
      "1.0\n",
      "1.2\n",
      "7657.445986770649\n",
      "7657.44598677065\n",
      "0.004664357446868912\n",
      "0.004664357446868914\n",
      "1.0 1\n",
      "1.2 1.2\n",
      "1.24 1.24\n"
     ]
    }
   ],
   "source": [
    "print(q_poch(-1.2, 0.2, 5))\n",
    "print(q_poch(-1.2, 0.2, 0))\n",
    "print(q_poch(-1.2, 0.2, -5))\n",
    "print(q_poch(-1.2, -1.2, 5))\n",
    "print(q_bracket(1, 0.2))\n",
    "print(q_bracket(2, 0.2))\n",
    "print(q_factorial(10, 0.7))\n",
    "print(q_factorial(10, 0.7, type=2))\n",
    "print(q_factorial(10, -0.7))\n",
    "print(q_factorial(10, -0.7, type=2))\n",
    "print(q_binom(1, 1, 0.2), 1)\n",
    "print(q_binom(2, 1, 0.2), 1 + 0.2)\n",
    "print(q_binom(3, 1, 0.2), 1 + 0.2 + 0.2**2)"
   ]
  },
  {
   "cell_type": "code",
   "execution_count": null,
   "metadata": {},
   "outputs": [],
   "source": []
  }
 ],
 "metadata": {
  "kernelspec": {
   "display_name": "Python 3",
   "language": "python",
   "name": "python3"
  },
  "language_info": {
   "codemirror_mode": {
    "name": "ipython",
    "version": 3
   },
   "file_extension": ".py",
   "mimetype": "text/x-python",
   "name": "python",
   "nbconvert_exporter": "python",
   "pygments_lexer": "ipython3",
   "version": "3.7.0"
  }
 },
 "nbformat": 4,
 "nbformat_minor": 4
}
